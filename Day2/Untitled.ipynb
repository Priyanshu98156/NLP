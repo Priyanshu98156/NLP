{
 "cells": [
  {
   "cell_type": "code",
   "execution_count": 1,
   "id": "7dbcc411-eb68-4365-8385-d4c80c666504",
   "metadata": {},
   "outputs": [],
   "source": [
    "import pandas as pd \n",
    "from sklearn.feature_extraction.text import CountVectorizer"
   ]
  },
  {
   "cell_type": "code",
   "execution_count": 3,
   "id": "2a145742-3098-4b55-b4c4-9078c669623d",
   "metadata": {},
   "outputs": [],
   "source": [
    "doc = [\n",
    "    \"I love NLP\",\n",
    "    \"I love machine learning\", \n",
    "    \"NLP is fun\"\n",
    "]\n",
    "vectorizer = CountVectorizer()"
   ]
  },
  {
   "cell_type": "code",
   "execution_count": 6,
   "id": "883d34ab-1c9a-4392-914c-b41173f64ff6",
   "metadata": {},
   "outputs": [
    {
     "name": "stdout",
     "output_type": "stream",
     "text": [
      "Vocabulary: \n",
      "['fun' 'is' 'learning' 'love' 'machine' 'nlp']\n",
      "[[0 0 0 1 0 1]\n",
      " [0 0 1 1 1 0]\n",
      " [1 1 0 0 0 1]]\n"
     ]
    }
   ],
   "source": [
    "x = vectorizer.fit_transform(doc)\n",
    "\n",
    "print(\"Vocabulary: \")\n",
    "print(vectorizer.get_feature_names_out())\n",
    "\n",
    "\n",
    "print(x.toarray())\n"
   ]
  },
  {
   "cell_type": "code",
   "execution_count": 7,
   "id": "7144800e-c0a3-4169-af50-fe7dd4a7a054",
   "metadata": {},
   "outputs": [
    {
     "name": "stdout",
     "output_type": "stream",
     "text": [
      "Vocabulary:\n",
      "['fun' 'is' 'learning' 'love' 'machine' 'nlp']\n",
      "\n",
      "TF-IDF Matrix:\n",
      "[[0.         0.         0.         0.70710678 0.         0.70710678]\n",
      " [0.         0.         0.62276601 0.4736296  0.62276601 0.        ]\n",
      " [0.62276601 0.62276601 0.         0.         0.         0.4736296 ]]\n"
     ]
    }
   ],
   "source": [
    "from sklearn.feature_extraction.text import TfidfVectorizer\n",
    "\n",
    "# Sample documents\n",
    "docs = [\n",
    "    \"I love NLP\",\n",
    "    \"I love machine learning\",\n",
    "    \"NLP is fun\"\n",
    "]\n",
    "\n",
    "# Create the TF-IDF Vectorizer\n",
    "vectorizer = TfidfVectorizer()\n",
    "\n",
    "# Fit and transform the data\n",
    "X = vectorizer.fit_transform(docs)\n",
    "\n",
    "# Show the vocabulary\n",
    "print(\"Vocabulary:\")\n",
    "print(vectorizer.get_feature_names_out())\n",
    "\n",
    "# Show the TF-IDF matrix\n",
    "print(\"\\nTF-IDF Matrix:\")\n",
    "print(X.toarray())\n"
   ]
  },
  {
   "cell_type": "code",
   "execution_count": 16,
   "id": "6b75d706-2024-44d2-a2c6-c65a8ac5841e",
   "metadata": {},
   "outputs": [],
   "source": [
    "import nltk \n",
    "from nltk.corpus import stopwords\n",
    "from nltk.stem import WordNetLemmatizer\n",
    "from sklearn.feature_extraction.text import TfidfVectorizer\n",
    "import string\n",
    "\n",
    "stop_words = set(stopwords.words('english'))\n",
    "lemmatizer = WordNetLemmatizer()"
   ]
  },
  {
   "cell_type": "code",
   "execution_count": 17,
   "id": "4181d2e7-3f32-47b9-9587-08935091698c",
   "metadata": {},
   "outputs": [
    {
     "name": "stdout",
     "output_type": "stream",
     "text": [
      "['love nlp', 'love machine learning', 'nlp fun']\n"
     ]
    }
   ],
   "source": [
    "def preprocess (doc):\n",
    "    doc= doc.lower()\n",
    "\n",
    "    doc = doc.translate(str.maketrans('','', string.punctuation))\n",
    "\n",
    "    words = nltk.word_tokenize(doc)\n",
    "\n",
    "    words = [lemmatizer.lemmatize(word) for word in words if word  not in stop_words]\n",
    "\n",
    "    return ' '. join(words)\n",
    "\n",
    "clean_docs = [preprocess(doc) for doc in docs ]\n",
    "\n",
    "\n",
    "print(clean_docs)\n",
    "\n"
   ]
  },
  {
   "cell_type": "code",
   "execution_count": 14,
   "id": "0d879d3c-008e-4aef-a24e-9294fa7a9fe8",
   "metadata": {},
   "outputs": [
    {
     "data": {
      "text/plain": [
       "['I love NLP', 'I love machine learning', 'NLP is fun']"
      ]
     },
     "execution_count": 14,
     "metadata": {},
     "output_type": "execute_result"
    }
   ],
   "source": [
    "docs"
   ]
  },
  {
   "cell_type": "code",
   "execution_count": 20,
   "id": "3cff7a84-3a3c-42b9-9d27-c3d61fdb0586",
   "metadata": {},
   "outputs": [
    {
     "name": "stdout",
     "output_type": "stream",
     "text": [
      "Vocabulary: \n",
      "['' 'fun' 'is' 'is fun' 'learning' 'love' 'love machine'\n",
      " 'love machine learning' 'love nlp' 'machine' 'machine learning' 'nlp'\n",
      " 'nlp is' 'nlp is fun']\n",
      "\n",
      " TF-IDF Matrix\n",
      "[[0.76991449 0.         0.         0.         0.         0.33046836\n",
      "  0.         0.         0.43452618 0.         0.         0.33046836\n",
      "  0.         0.        ]\n",
      " [0.70719671 0.         0.         0.         0.29934703 0.22766113\n",
      "  0.29934703 0.29934703 0.         0.29934703 0.29934703 0.\n",
      "  0.         0.        ]\n",
      " [0.70719671 0.29934703 0.29934703 0.29934703 0.         0.\n",
      "  0.         0.         0.         0.         0.         0.22766113\n",
      "  0.29934703 0.29934703]]\n"
     ]
    }
   ],
   "source": [
    "n_vectorizer= TfidfVectorizer(ngram_range= (1,2))\n",
    "X = n_vectorizer.fit_transform(docs)\n",
    "\n",
    "print(\"Vocabulary: \")\n",
    "print(n_vectorizer.get_feature_names_out())\n",
    "\n",
    "print(\"\\n TF-IDF Matrix\")\n",
    "print(X.toarray())"
   ]
  },
  {
   "cell_type": "code",
   "execution_count": 24,
   "id": "167418d9-937e-4936-8881-d0a10cc576b3",
   "metadata": {},
   "outputs": [
    {
     "name": "stdout",
     "output_type": "stream",
     "text": [
      "Document :\n",
      "I love NLP\n",
      "I love machine learning\n",
      "NLP is fun\n",
      "\n",
      "\n",
      "Vocabulary: \n",
      "['love machine learning' 'nlp is fun']\n",
      "\n",
      " TF-IDF Matrix\n",
      "[[0. 0.]\n",
      " [1. 0.]\n",
      " [0. 1.]]\n"
     ]
    }
   ],
   "source": [
    "trigram_vectorizer= TfidfVectorizer(ngram_range= (3,3))\n",
    "X = trigram_vectorizer.fit_transform(docs)\n",
    "print(\"Document :\")\n",
    "for i in docs:\n",
    "    print(i)\n",
    "print(\"\\n\\nVocabulary: \")\n",
    "print(trigram_vectorizer.get_feature_names_out())\n",
    "\n",
    "print(\"\\n TF-IDF Matrix\")\n",
    "print(X.toarray())"
   ]
  },
  {
   "cell_type": "code",
   "execution_count": null,
   "id": "44956bb5-6712-4db7-a51c-cef18799b463",
   "metadata": {},
   "outputs": [],
   "source": []
  }
 ],
 "metadata": {
  "kernelspec": {
   "display_name": "Python 3 (ipykernel)",
   "language": "python",
   "name": "python3"
  },
  "language_info": {
   "codemirror_mode": {
    "name": "ipython",
    "version": 3
   },
   "file_extension": ".py",
   "mimetype": "text/x-python",
   "name": "python",
   "nbconvert_exporter": "python",
   "pygments_lexer": "ipython3",
   "version": "3.12.7"
  }
 },
 "nbformat": 4,
 "nbformat_minor": 5
}
